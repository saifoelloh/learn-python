{
 "cells": [
  {
   "cell_type": "markdown",
   "metadata": {},
   "source": [
    "# Lambda\n",
    "\n",
    "Pada kali ini saya akan mengimplementasikan penggunaan singkat dari fungsi lambda\n",
    "- menghitung ganjil dan genap\n",
    "- menghitung nilai faktorial\n",
    "- game tebak angka"
   ]
  },
  {
   "cell_type": "markdown",
   "metadata": {},
   "source": [
    "## Ganjil dan Genap"
   ]
  },
  {
   "cell_type": "code",
   "execution_count": 1,
   "metadata": {},
   "outputs": [
    {
     "name": "stdout",
     "output_type": "stream",
     "text": [
      "[1, 2, 3, 4, 5, 6, 7, 8, 9, 10]\n",
      "[1, 3, 5, 7, 9]\n",
      "[2, 4, 6, 8, 10]\n"
     ]
    }
   ],
   "source": [
    "odds = lambda numb: numb%2\n",
    "even = lambda numb: not numb%2\n",
    "numbers = [1,2,3,4,5,6,7,8,9,10]\n",
    "oddsNumber = list(filter(odds, numbers))\n",
    "evenNumber = list(filter(even, numbers))\n",
    "\n",
    "print(numbers)\n",
    "print(oddsNumber)\n",
    "print(evenNumber)"
   ]
  },
  {
   "cell_type": "markdown",
   "metadata": {},
   "source": [
    "## Faktorial"
   ]
  },
  {
   "cell_type": "code",
   "execution_count": 16,
   "metadata": {},
   "outputs": [
    {
     "name": "stdout",
     "output_type": "stream",
     "text": [
      "Hasil faktorial 4 adalah  24\n"
     ]
    }
   ],
   "source": [
    "faktorial = lambda n:1 if n<=0 else n*fakto(n-1)\n",
    "\n",
    "print('Hasil faktorial 4 adalah ', faktorial(4))"
   ]
  },
  {
   "cell_type": "markdown",
   "metadata": {},
   "source": [
    "## Tebak Angka"
   ]
  },
  {
   "cell_type": "code",
   "execution_count": null,
   "metadata": {},
   "outputs": [],
   "source": [
    "import os\n",
    "import sys\n",
    "\n",
    "os.system(\"clear\")\n",
    "\n",
    "guessNumb = lambda ans, guess: ans is guess\n",
    "intInput  = lambda message: int(input(message))\n",
    "\n",
    "answer    = round(random.random() * 100)\n",
    "isCorrect = False\n",
    "changes   = 3\n",
    "\n",
    "while not isCorrect and changes > 0:\n",
    "    welcomeMsg = \"Kesempatan tersedia {}\"\n",
    "    print(welcomeMsg.format(changes))\n",
    "    guess = intInput(\"Masukan angka tebakan anda: \")\n",
    "    isCorrect = guessNumb(answer, guess)\n",
    "    changes = changes - 1\n",
    "    os.system(\"clear\")\n",
    "\n",
    "if isCorrect:\n",
    "    print(\"Selamat angka tebakan anda benar\")\n",
    "else:\n",
    "    print(\"Anda kalah\")\n",
    "    print(\"Ini adalah jawabannya \", answer)"
   ]
  },
  {
   "cell_type": "markdown",
   "metadata": {},
   "source": []
  }
 ],
 "metadata": {
  "kernelspec": {
   "display_name": "Python 3",
   "language": "python",
   "name": "python3"
  },
  "language_info": {
   "codemirror_mode": {
    "name": "ipython",
    "version": 3
   },
   "file_extension": ".py",
   "mimetype": "text/x-python",
   "name": "python",
   "nbconvert_exporter": "python",
   "pygments_lexer": "ipython3",
   "version": "3.8.2"
  }
 },
 "nbformat": 4,
 "nbformat_minor": 4
}
