{
 "cells": [
  {
   "cell_type": "code",
   "execution_count": 2,
   "metadata": {},
   "outputs": [
    {
     "name": "stdout",
     "output_type": "stream",
     "text": [
      "saipul\n",
      "foo\n",
      "bar\n",
      "foo\n",
      "saipul\n"
     ]
    }
   ],
   "source": [
    "name = \"saipul\"\n",
    "namev2 = \"foo\"\n",
    "\n",
    "print(name)\n",
    "print(namev2)\n",
    "\n",
    "temp = name\n",
    "name = \"bar\"\n",
    "\n",
    "print(name)\n",
    "print(namev2)\n",
    "print(temp)"
   ]
  },
  {
   "cell_type": "code",
   "execution_count": 1,
   "metadata": {},
   "outputs": [
    {
     "name": "stdin",
     "output_type": "stream",
     "text": [
      "Masukan nilai anda  10\n"
     ]
    },
    {
     "name": "stdout",
     "output_type": "stream",
     "text": [
      "Anda Bank Jateng\n"
     ]
    }
   ],
   "source": [
    "number = int(input(\"Masukan nilai anda \"))\n",
    "if number >= 75:\n",
    "    print(\"Anda jenius\")\n",
    "elif number > 60 and number < 75:\n",
    "    print(\"Anda BCA\")\n",
    "else:\n",
    "    print(\"Anda Bank Jateng\")"
   ]
  },
  {
   "cell_type": "code",
   "execution_count": 12,
   "metadata": {},
   "outputs": [
    {
     "data": {
      "text/plain": [
       "\"Your's prime number\""
      ]
     },
     "execution_count": 12,
     "metadata": {},
     "output_type": "execute_result"
    }
   ],
   "source": [
    "def primeNumber(number=3):\n",
    "    status = True\n",
    "    if number > 1:\n",
    "        lis = list(range(2,9))\n",
    "        for i in lis:\n",
    "            if not(number % i) and i is not number:\n",
    "                status = !status\n",
    "                break\n",
    "    else:\n",
    "        status = !status\n",
    "    \n",
    "    return \"Your's prime number\" if status else \"Your's not prime number\"\n",
    "\n",
    "primeNumber(99)"
   ]
  },
  {
   "cell_type": "code",
   "execution_count": 15,
   "metadata": {},
   "outputs": [
    {
     "name": "stdin",
     "output_type": "stream",
     "text": [
      "Masukan angaka  20\n"
     ]
    },
    {
     "name": "stdout",
     "output_type": "stream",
     "text": [
      "[1, 4, 9, 16, 25, 36, 49, 64, 81, 100, 121, 144, 169, 196, 225, 256, 289, 324, 361]\n"
     ]
    }
   ],
   "source": [
    "angka = int(input(\"Masukan angaka \"))\n",
    "arr = [x ** 2 for x in range(1, angka)]\n",
    "print(arr)"
   ]
  },
  {
   "cell_type": "code",
   "execution_count": 19,
   "metadata": {},
   "outputs": [
    {
     "name": "stdin",
     "output_type": "stream",
     "text": [
      "Masukan angaka  7\n"
     ]
    },
    {
     "name": "stdout",
     "output_type": "stream",
     "text": [
      "[49, 36, 25, 16, 9, 4, 1]\n"
     ]
    }
   ],
   "source": [
    "angka = int(input(\"Masukan angaka \"))\n",
    "arr = [(angka-x) ** 2 for x in range(0, angka)]\n",
    "print(arr)"
   ]
  },
  {
   "cell_type": "code",
   "execution_count": 20,
   "metadata": {},
   "outputs": [
    {
     "name": "stdin",
     "output_type": "stream",
     "text": [
      "Masukan angaka  6\n"
     ]
    },
    {
     "name": "stdout",
     "output_type": "stream",
     "text": [
      "[36, 25, 16, 9, 4, 1]\n"
     ]
    }
   ],
   "source": [
    "angka = int(input(\"Masukan angaka \"))\n",
    "arr = [x ** 2 for x in range(angka, 0, -1)]\n",
    "print(arr)"
   ]
  },
  {
   "cell_type": "code",
   "execution_count": 23,
   "metadata": {},
   "outputs": [
    {
     "name": "stdin",
     "output_type": "stream",
     "text": [
      "Jumlah bilangan prima:  15000\n"
     ]
    },
    {
     "name": "stdout",
     "output_type": "stream",
     "text": [
      "The value is  163841\n"
     ]
    }
   ],
   "source": [
    "LIMIT = int(input(\"Jumlah bilangan prima: \"))\n",
    "RESULT = list()\n",
    "\n",
    "NUM = 1\n",
    "while len(RESULT) < LIMIT:\n",
    "    STAT = True\n",
    "    if NUM > 1:\n",
    "        TEMP = list(range(2, 9))\n",
    "        TEMP.extend(RESULT)\n",
    "        TEMP = set(TEMP)\n",
    "        for I in TEMP:\n",
    "            if not(NUM%I) and (NUM is not I):\n",
    "                STAT = not STAT\n",
    "                break\n",
    "    else:\n",
    "        STAT = not STAT\n",
    "    if STAT:\n",
    "        RESULT.append(NUM)\n",
    "    NUM += 1\n",
    "\n",
    "print(\"The value is \", RESULT[LIMIT-1])"
   ]
  }
 ],
 "metadata": {
  "kernelspec": {
   "display_name": "Python 3",
   "language": "python",
   "name": "python3"
  },
  "language_info": {
   "codemirror_mode": {
    "name": "ipython",
    "version": 3
   },
   "file_extension": ".py",
   "mimetype": "text/x-python",
   "name": "python",
   "nbconvert_exporter": "python",
   "pygments_lexer": "ipython3",
   "version": "3.8.2"
  }
 },
 "nbformat": 4,
 "nbformat_minor": 4
}
