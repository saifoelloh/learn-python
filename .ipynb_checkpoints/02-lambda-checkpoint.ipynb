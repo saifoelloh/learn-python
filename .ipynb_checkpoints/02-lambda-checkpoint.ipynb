{
 "cells": [
  {
   "cell_type": "markdown",
   "metadata": {},
   "source": [
    "Hello\n",
    "---\n",
    "Pada kali ini kita akan belajar tentang penggunaan dari\n",
    "- list\n",
    "- tuple\n",
    "- dictionary\n",
    "- lambda"
   ]
  },
  {
   "cell_type": "code",
   "execution_count": null,
   "metadata": {},
   "outputs": [],
   "source": [
    "odds = lambda numb: numb%2\n",
    "even = lambda numb: not numb%2\n",
    "numbers = [1,2,3,4,5,6,7,8,9,10]\n",
    "oddsNumber = list(filter(odds, numbers))\n",
    "evenNumber = list(filter(even, numbers))\n",
    "\n",
    "print(numbers)\n",
    "print(oddsNumber)\n",
    "print(evenNumber)"
   ]
  },
  {
   "cell_type": "markdown",
   "metadata": {},
   "source": [
    "List\n",
    "---\n",
    "\n",
    "penggunaan list untuk menghitung faktorial"
   ]
  },
  {
   "cell_type": "code",
   "execution_count": 16,
   "metadata": {},
   "outputs": [
    {
     "name": "stdout",
     "output_type": "stream",
     "text": [
      "Hasil faktorial 4 adalah  24\n"
     ]
    }
   ],
   "source": [
    "faktorial = lambda n:1 if n<=0 else n*fakto(n-1)\n",
    "\n",
    "print('Hasil faktorial 4 adalah ', faktorial(4))"
   ]
  }
 ],
 "metadata": {
  "kernelspec": {
   "display_name": "Python 3",
   "language": "python",
   "name": "python3"
  },
  "language_info": {
   "codemirror_mode": {
    "name": "ipython",
    "version": 3
   },
   "file_extension": ".py",
   "mimetype": "text/x-python",
   "name": "python",
   "nbconvert_exporter": "python",
   "pygments_lexer": "ipython3",
   "version": "3.8.2"
  }
 },
 "nbformat": 4,
 "nbformat_minor": 4
}
