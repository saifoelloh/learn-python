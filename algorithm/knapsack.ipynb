{
 "cells": [
  {
   "cell_type": "markdown",
   "metadata": {},
   "source": [
    "# Knapsack Problem"
   ]
  },
  {
   "cell_type": "code",
   "execution_count": 25,
   "metadata": {},
   "outputs": [
    {
     "name": "stdout",
     "output_type": "stream",
     "text": [
      "4\n",
      "Hasil 13\n"
     ]
    }
   ],
   "source": [
    "def KnapSack(available = 0, n = 0, items = list()):\n",
    "    cur = items[n]\n",
    "    items.remove(cur)\n",
    "    if available >= cur['weight']:\n",
    "        if n > 0:\n",
    "            return cur['value'] + KnapSack(available-cur['weight'], n-1, items)\n",
    "        else:\n",
    "            return cur['value']\n",
    "    elif n > 0 and available > 0:\n",
    "        return 0 + KnapSack(available, n-1, items)\n",
    "    else:\n",
    "        return 0\n",
    "\n",
    "items = [\n",
    "    {\"weight\": 1, \"value\": 5},\n",
    "    {\"weight\": 2, \"value\": 3},\n",
    "    {\"weight\": 4, \"value\": 5},\n",
    "    {\"weight\": 2, \"value\": 3},\n",
    "    {\"weight\": 5, \"value\": 2},\n",
    "]\n",
    "\n",
    "hasil = KnapSack(10, len(items)-1, items)\n",
    "print(\"Hasil {}\".format(hasil))"
   ]
  },
  {
   "cell_type": "code",
   "execution_count": null,
   "metadata": {},
   "outputs": [],
   "source": []
  }
 ],
 "metadata": {
  "kernelspec": {
   "display_name": "Python 3",
   "language": "python",
   "name": "python3"
  },
  "language_info": {
   "codemirror_mode": {
    "name": "ipython",
    "version": 3
   },
   "file_extension": ".py",
   "mimetype": "text/x-python",
   "name": "python",
   "nbconvert_exporter": "python",
   "pygments_lexer": "ipython3",
   "version": "3.8.2"
  }
 },
 "nbformat": 4,
 "nbformat_minor": 4
}
